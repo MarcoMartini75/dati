{
  "nbformat": 4,
  "nbformat_minor": 0,
  "metadata": {
    "colab": {
      "name": "prima_prova.ipynb",
      "version": "0.3.2",
      "provenance": [],
      "collapsed_sections": [],
      "include_colab_link": true
    },
    "kernelspec": {
      "name": "python3",
      "display_name": "Python 3"
    }
  },
  "cells": [
    {
      "cell_type": "markdown",
      "metadata": {
        "id": "view-in-github",
        "colab_type": "text"
      },
      "source": [
        "<a href=\"https://colab.research.google.com/github/MarcoMartini75/dati/blob/master/prima_prova.ipynb\" target=\"_parent\"><img src=\"https://colab.research.google.com/assets/colab-badge.svg\" alt=\"Open In Colab\"/></a>"
      ]
    },
    {
      "metadata": {
        "id": "VncHvvhMFib4",
        "colab_type": "code",
        "outputId": "482b302c-46f3-46b3-80a2-315ed798d811",
        "colab": {
          "base_uri": "https://localhost:8080/",
          "height": 119
        }
      },
      "cell_type": "code",
      "source": [
        "! git clone --recursive https://github.com/MarcoMartini75/dati\n",
        "      "
      ],
      "execution_count": 0,
      "outputs": [
        {
          "output_type": "stream",
          "text": [
            "Cloning into 'dati'...\n",
            "remote: Enumerating objects: 3, done.\u001b[K\n",
            "remote: Counting objects:  33% (1/3)   \u001b[K\rremote: Counting objects:  66% (2/3)   \u001b[K\rremote: Counting objects: 100% (3/3)   \u001b[K\rremote: Counting objects: 100% (3/3), done.\u001b[K\n",
            "remote: Compressing objects: 100% (3/3), done.\u001b[K\n",
            "remote: Total 3 (delta 0), reused 0 (delta 0), pack-reused 0\u001b[K\n",
            "Unpacking objects: 100% (3/3), done.\n"
          ],
          "name": "stdout"
        }
      ]
    },
    {
      "metadata": {
        "id": "cJu-qH-zLbHD",
        "colab_type": "code",
        "colab": {}
      },
      "cell_type": "code",
      "source": [
        "import pandas as pd\n",
        "import numpy as np\n",
        "import matplotlib.pyplot as plt\n",
        "%matplotlib inline\n",
        "import seaborn as sns\n",
        "sns.set()"
      ],
      "execution_count": 0,
      "outputs": []
    },
    {
      "metadata": {
        "id": "_7Ppr_7SLiM5",
        "colab_type": "code",
        "colab": {}
      },
      "cell_type": "code",
      "source": [
        "df = pd.read_csv(\"/content/dati/Womens Clothing E-Commerce Reviews.csv\", index_col = 0)"
      ],
      "execution_count": 0,
      "outputs": []
    },
    {
      "metadata": {
        "id": "AzXeTlqJMk-d",
        "colab_type": "code",
        "outputId": "27a47e2e-6bfc-4bbe-a145-1405dc4b7e18",
        "colab": {
          "base_uri": "https://localhost:8080/",
          "height": 546
        }
      },
      "cell_type": "code",
      "source": [
        "df.head(10)"
      ],
      "execution_count": 0,
      "outputs": [
        {
          "output_type": "execute_result",
          "data": {
            "text/html": [
              "<div>\n",
              "<style scoped>\n",
              "    .dataframe tbody tr th:only-of-type {\n",
              "        vertical-align: middle;\n",
              "    }\n",
              "\n",
              "    .dataframe tbody tr th {\n",
              "        vertical-align: top;\n",
              "    }\n",
              "\n",
              "    .dataframe thead th {\n",
              "        text-align: right;\n",
              "    }\n",
              "</style>\n",
              "<table border=\"1\" class=\"dataframe\">\n",
              "  <thead>\n",
              "    <tr style=\"text-align: right;\">\n",
              "      <th></th>\n",
              "      <th>Clothing ID</th>\n",
              "      <th>Age</th>\n",
              "      <th>Title</th>\n",
              "      <th>Review Text</th>\n",
              "      <th>Rating</th>\n",
              "      <th>Recommended IND</th>\n",
              "      <th>Positive Feedback Count</th>\n",
              "      <th>Division Name</th>\n",
              "      <th>Department Name</th>\n",
              "      <th>Class Name</th>\n",
              "    </tr>\n",
              "  </thead>\n",
              "  <tbody>\n",
              "    <tr>\n",
              "      <th>0</th>\n",
              "      <td>767</td>\n",
              "      <td>33</td>\n",
              "      <td>NaN</td>\n",
              "      <td>Absolutely wonderful - silky and sexy and comf...</td>\n",
              "      <td>4</td>\n",
              "      <td>1</td>\n",
              "      <td>0</td>\n",
              "      <td>Initmates</td>\n",
              "      <td>Intimate</td>\n",
              "      <td>Intimates</td>\n",
              "    </tr>\n",
              "    <tr>\n",
              "      <th>1</th>\n",
              "      <td>1080</td>\n",
              "      <td>34</td>\n",
              "      <td>NaN</td>\n",
              "      <td>Love this dress!  it's sooo pretty.  i happene...</td>\n",
              "      <td>5</td>\n",
              "      <td>1</td>\n",
              "      <td>4</td>\n",
              "      <td>General</td>\n",
              "      <td>Dresses</td>\n",
              "      <td>Dresses</td>\n",
              "    </tr>\n",
              "    <tr>\n",
              "      <th>2</th>\n",
              "      <td>1077</td>\n",
              "      <td>60</td>\n",
              "      <td>Some major design flaws</td>\n",
              "      <td>I had such high hopes for this dress and reall...</td>\n",
              "      <td>3</td>\n",
              "      <td>0</td>\n",
              "      <td>0</td>\n",
              "      <td>General</td>\n",
              "      <td>Dresses</td>\n",
              "      <td>Dresses</td>\n",
              "    </tr>\n",
              "    <tr>\n",
              "      <th>3</th>\n",
              "      <td>1049</td>\n",
              "      <td>50</td>\n",
              "      <td>My favorite buy!</td>\n",
              "      <td>I love, love, love this jumpsuit. it's fun, fl...</td>\n",
              "      <td>5</td>\n",
              "      <td>1</td>\n",
              "      <td>0</td>\n",
              "      <td>General Petite</td>\n",
              "      <td>Bottoms</td>\n",
              "      <td>Pants</td>\n",
              "    </tr>\n",
              "    <tr>\n",
              "      <th>4</th>\n",
              "      <td>847</td>\n",
              "      <td>47</td>\n",
              "      <td>Flattering shirt</td>\n",
              "      <td>This shirt is very flattering to all due to th...</td>\n",
              "      <td>5</td>\n",
              "      <td>1</td>\n",
              "      <td>6</td>\n",
              "      <td>General</td>\n",
              "      <td>Tops</td>\n",
              "      <td>Blouses</td>\n",
              "    </tr>\n",
              "    <tr>\n",
              "      <th>5</th>\n",
              "      <td>1080</td>\n",
              "      <td>49</td>\n",
              "      <td>Not for the very petite</td>\n",
              "      <td>I love tracy reese dresses, but this one is no...</td>\n",
              "      <td>2</td>\n",
              "      <td>0</td>\n",
              "      <td>4</td>\n",
              "      <td>General</td>\n",
              "      <td>Dresses</td>\n",
              "      <td>Dresses</td>\n",
              "    </tr>\n",
              "    <tr>\n",
              "      <th>6</th>\n",
              "      <td>858</td>\n",
              "      <td>39</td>\n",
              "      <td>Cagrcoal shimmer fun</td>\n",
              "      <td>I aded this in my basket at hte last mintue to...</td>\n",
              "      <td>5</td>\n",
              "      <td>1</td>\n",
              "      <td>1</td>\n",
              "      <td>General Petite</td>\n",
              "      <td>Tops</td>\n",
              "      <td>Knits</td>\n",
              "    </tr>\n",
              "    <tr>\n",
              "      <th>7</th>\n",
              "      <td>858</td>\n",
              "      <td>39</td>\n",
              "      <td>Shimmer, surprisingly goes with lots</td>\n",
              "      <td>I ordered this in carbon for store pick up, an...</td>\n",
              "      <td>4</td>\n",
              "      <td>1</td>\n",
              "      <td>4</td>\n",
              "      <td>General Petite</td>\n",
              "      <td>Tops</td>\n",
              "      <td>Knits</td>\n",
              "    </tr>\n",
              "    <tr>\n",
              "      <th>8</th>\n",
              "      <td>1077</td>\n",
              "      <td>24</td>\n",
              "      <td>Flattering</td>\n",
              "      <td>I love this dress. i usually get an xs but it ...</td>\n",
              "      <td>5</td>\n",
              "      <td>1</td>\n",
              "      <td>0</td>\n",
              "      <td>General</td>\n",
              "      <td>Dresses</td>\n",
              "      <td>Dresses</td>\n",
              "    </tr>\n",
              "    <tr>\n",
              "      <th>9</th>\n",
              "      <td>1077</td>\n",
              "      <td>34</td>\n",
              "      <td>Such a fun dress!</td>\n",
              "      <td>I'm 5\"5' and 125 lbs. i ordered the s petite t...</td>\n",
              "      <td>5</td>\n",
              "      <td>1</td>\n",
              "      <td>0</td>\n",
              "      <td>General</td>\n",
              "      <td>Dresses</td>\n",
              "      <td>Dresses</td>\n",
              "    </tr>\n",
              "  </tbody>\n",
              "</table>\n",
              "</div>"
            ],
            "text/plain": [
              "   Clothing ID  Age                                 Title  \\\n",
              "0          767   33                                   NaN   \n",
              "1         1080   34                                   NaN   \n",
              "2         1077   60               Some major design flaws   \n",
              "3         1049   50                      My favorite buy!   \n",
              "4          847   47                      Flattering shirt   \n",
              "5         1080   49               Not for the very petite   \n",
              "6          858   39                  Cagrcoal shimmer fun   \n",
              "7          858   39  Shimmer, surprisingly goes with lots   \n",
              "8         1077   24                            Flattering   \n",
              "9         1077   34                     Such a fun dress!   \n",
              "\n",
              "                                         Review Text  Rating  Recommended IND  \\\n",
              "0  Absolutely wonderful - silky and sexy and comf...       4                1   \n",
              "1  Love this dress!  it's sooo pretty.  i happene...       5                1   \n",
              "2  I had such high hopes for this dress and reall...       3                0   \n",
              "3  I love, love, love this jumpsuit. it's fun, fl...       5                1   \n",
              "4  This shirt is very flattering to all due to th...       5                1   \n",
              "5  I love tracy reese dresses, but this one is no...       2                0   \n",
              "6  I aded this in my basket at hte last mintue to...       5                1   \n",
              "7  I ordered this in carbon for store pick up, an...       4                1   \n",
              "8  I love this dress. i usually get an xs but it ...       5                1   \n",
              "9  I'm 5\"5' and 125 lbs. i ordered the s petite t...       5                1   \n",
              "\n",
              "   Positive Feedback Count   Division Name Department Name Class Name  \n",
              "0                        0       Initmates        Intimate  Intimates  \n",
              "1                        4         General         Dresses    Dresses  \n",
              "2                        0         General         Dresses    Dresses  \n",
              "3                        0  General Petite         Bottoms      Pants  \n",
              "4                        6         General            Tops    Blouses  \n",
              "5                        4         General         Dresses    Dresses  \n",
              "6                        1  General Petite            Tops      Knits  \n",
              "7                        4  General Petite            Tops      Knits  \n",
              "8                        0         General         Dresses    Dresses  \n",
              "9                        0         General         Dresses    Dresses  "
            ]
          },
          "metadata": {
            "tags": []
          },
          "execution_count": 19
        }
      ]
    },
    {
      "metadata": {
        "id": "Uzze5s0AMuxE",
        "colab_type": "code",
        "outputId": "fefc7366-cae9-43bf-da4b-7eb9e55f31f3",
        "colab": {
          "base_uri": "https://localhost:8080/",
          "height": 204
        }
      },
      "cell_type": "code",
      "source": [
        "pd.isnull(df).sum()"
      ],
      "execution_count": 0,
      "outputs": [
        {
          "output_type": "execute_result",
          "data": {
            "text/plain": [
              "Clothing ID                   0\n",
              "Age                           0\n",
              "Title                      3810\n",
              "Review Text                 845\n",
              "Rating                        0\n",
              "Recommended IND               0\n",
              "Positive Feedback Count       0\n",
              "Division Name                14\n",
              "Department Name              14\n",
              "Class Name                   14\n",
              "dtype: int64"
            ]
          },
          "metadata": {
            "tags": []
          },
          "execution_count": 20
        }
      ]
    },
    {
      "metadata": {
        "id": "7UlsOnczOQlk",
        "colab_type": "code",
        "colab": {}
      },
      "cell_type": "code",
      "source": [
        "df = df.dropna(subset=['Title', 'Review Text'])"
      ],
      "execution_count": 0,
      "outputs": []
    },
    {
      "metadata": {
        "id": "TO3IHWmzeB9x",
        "colab_type": "text"
      },
      "cell_type": "markdown",
      "source": [
        "# **Y = Recommended IND **"
      ]
    },
    {
      "metadata": {
        "id": "g7bnL5p4OZXs",
        "colab_type": "code",
        "colab": {}
      },
      "cell_type": "code",
      "source": [
        "from sklearn.model_selection import train_test_split\n",
        "\n",
        "X = df['Title']\n",
        "\n",
        "y = df['Recommended IND']\n",
        "\n",
        "X_train, X_test, y_train, y_test = train_test_split(X, y, test_size=0.2, random_state = 123)"
      ],
      "execution_count": 0,
      "outputs": []
    },
    {
      "metadata": {
        "id": "SdT5gN4hOf9O",
        "colab_type": "code",
        "outputId": "b250805d-7aa7-4eaa-f7e2-b310f13d6d4b",
        "colab": {
          "base_uri": "https://localhost:8080/",
          "height": 34
        }
      },
      "cell_type": "code",
      "source": [
        "from time import time\n",
        "t0 = time()\n",
        "from sklearn.feature_extraction.text import CountVectorizer\n",
        "\n",
        "vectorizer = CountVectorizer()\n",
        "\n",
        "X_train = vectorizer.fit_transform(X_train).todense()\n",
        "X_test = vectorizer.transform(X_test).todense()\n",
        "t1 = time() - t0\n",
        "print(\"Réalisé en {} secondes\".format(round(t1,3)))"
      ],
      "execution_count": 0,
      "outputs": [
        {
          "output_type": "stream",
          "text": [
            "Réalisé en 0.302 secondes\n"
          ],
          "name": "stdout"
        }
      ]
    },
    {
      "metadata": {
        "id": "4tszFnFQhAy8",
        "colab_type": "text"
      },
      "cell_type": "markdown",
      "source": [
        "## Logistic Regression"
      ]
    },
    {
      "metadata": {
        "id": "vKvPA7r1OmLs",
        "colab_type": "code",
        "outputId": "04eea489-7731-4d39-a3c8-d76d1e02ad8a",
        "colab": {
          "base_uri": "https://localhost:8080/",
          "height": 88
        }
      },
      "cell_type": "code",
      "source": [
        "t0 = time()\n",
        "from sklearn.linear_model import LogisticRegression\n",
        "\n",
        "clf = LogisticRegression(C = 1.0)\n",
        "clf.fit(X_train, y_train)\n",
        "y_pred = clf.predict(X_test)\n",
        "\n",
        "t1 = time() - t0\n",
        "print(\"Réalisé en {} secondes\".format(round(t1,3)))"
      ],
      "execution_count": 0,
      "outputs": [
        {
          "output_type": "stream",
          "text": [
            "/usr/local/lib/python3.6/dist-packages/sklearn/linear_model/logistic.py:433: FutureWarning: Default solver will be changed to 'lbfgs' in 0.22. Specify a solver to silence this warning.\n",
            "  FutureWarning)\n"
          ],
          "name": "stderr"
        },
        {
          "output_type": "stream",
          "text": [
            "Réalisé en 0.998 secondes\n"
          ],
          "name": "stdout"
        }
      ]
    },
    {
      "metadata": {
        "id": "ZePsjsheOvWu",
        "colab_type": "code",
        "outputId": "91d4f78f-ba0c-476e-b035-c543ee2b30c8",
        "colab": {
          "base_uri": "https://localhost:8080/",
          "height": 238
        }
      },
      "cell_type": "code",
      "source": [
        "from sklearn.metrics import classification_report\n",
        "\n",
        "print( classification_report(y_test, y_pred) )\n",
        "\n",
        "cm_lr = pd.crosstab(y_test, y_pred, rownames=['Classe réelle'], colnames=['Classe prédite'])\n",
        "print(cm_lr)"
      ],
      "execution_count": 0,
      "outputs": [
        {
          "output_type": "stream",
          "text": [
            "              precision    recall  f1-score   support\n",
            "\n",
            "           0       0.72      0.56      0.63       706\n",
            "           1       0.91      0.95      0.93      3229\n",
            "\n",
            "   micro avg       0.88      0.88      0.88      3935\n",
            "   macro avg       0.81      0.76      0.78      3935\n",
            "weighted avg       0.87      0.88      0.88      3935\n",
            "\n",
            "Classe prédite    0     1\n",
            "Classe réelle            \n",
            "0               398   308\n",
            "1               156  3073\n"
          ],
          "name": "stdout"
        }
      ]
    },
    {
      "metadata": {
        "id": "OGXy42YKO9x3",
        "colab_type": "code",
        "outputId": "83df6e72-0796-4763-ed44-b7990811fe62",
        "colab": {
          "base_uri": "https://localhost:8080/",
          "height": 378
        }
      },
      "cell_type": "code",
      "source": [
        "sns.heatmap(cm_lr, annot=True, fmt=\"d\", cmap=\"YlGnBu\")"
      ],
      "execution_count": 0,
      "outputs": [
        {
          "output_type": "execute_result",
          "data": {
            "text/plain": [
              "<matplotlib.axes._subplots.AxesSubplot at 0x7f188f5caac8>"
            ]
          },
          "metadata": {
            "tags": []
          },
          "execution_count": 27
        },
        {
          "output_type": "display_data",
          "data": {
            "image/png": "[encoded data removed]",
            "text/plain": [
              "<Figure size 576x396 with 2 Axes>"
            ]
          },
          "metadata": {
            "tags": []
          }
        }
      ]
    },
    {
      "metadata": {
        "id": "FsfH2BmBhRc1",
        "colab_type": "text"
      },
      "cell_type": "markdown",
      "source": [
        "## Gradient Boosting"
      ]
    },
    {
      "metadata": {
        "id": "XNkK7GJ_PLjb",
        "colab_type": "code",
        "outputId": "660214e8-ee9c-405b-8cd4-b1e637ca5742",
        "colab": {
          "base_uri": "https://localhost:8080/",
          "height": 34
        }
      },
      "cell_type": "code",
      "source": [
        "t0 = time()\n",
        "\n",
        "from sklearn.ensemble import GradientBoostingClassifier\n",
        "gb_clf = GradientBoostingClassifier(n_estimators=100, learning_rate=1.0, max_depth=1, random_state=0).fit(X_train, y_train)\n",
        "y_pred = gb_clf.predict(X_test)\n",
        "\n",
        "t1 = time() - t0\n",
        "print(\"Réalisé en {} secondes\".format(round(t1,3)))"
      ],
      "execution_count": 0,
      "outputs": [
        {
          "output_type": "stream",
          "text": [
            "Réalisé en 202.294 secondes\n"
          ],
          "name": "stdout"
        }
      ]
    },
    {
      "metadata": {
        "id": "GN316M3wPdm7",
        "colab_type": "code",
        "outputId": "a7c78548-aedd-46c5-b270-3fd21f8ab296",
        "colab": {
          "base_uri": "https://localhost:8080/",
          "height": 238
        }
      },
      "cell_type": "code",
      "source": [
        "print( classification_report(y_test, y_pred) )\n",
        "cm_gb = pd.crosstab(y_test, y_pred, rownames=['Classe réelle'], colnames=['Classe prédite'])\n",
        "print(cm_gb)"
      ],
      "execution_count": 0,
      "outputs": [
        {
          "output_type": "stream",
          "text": [
            "              precision    recall  f1-score   support\n",
            "\n",
            "           0       0.66      0.49      0.56       706\n",
            "           1       0.89      0.94      0.92      3229\n",
            "\n",
            "   micro avg       0.86      0.86      0.86      3935\n",
            "   macro avg       0.78      0.72      0.74      3935\n",
            "weighted avg       0.85      0.86      0.85      3935\n",
            "\n",
            "Classe prédite    0     1\n",
            "Classe réelle            \n",
            "0               346   360\n",
            "1               181  3048\n"
          ],
          "name": "stdout"
        }
      ]
    },
    {
      "metadata": {
        "id": "9G1iiQXChmGv",
        "colab_type": "text"
      },
      "cell_type": "markdown",
      "source": [
        "## SVM"
      ]
    },
    {
      "metadata": {
        "id": "MbfnKuw4Q9IW",
        "colab_type": "code",
        "outputId": "a1070794-8f38-441d-c2e8-4bdb719e4f68",
        "colab": {
          "base_uri": "https://localhost:8080/",
          "height": 34
        }
      },
      "cell_type": "code",
      "source": [
        "t0 = time()\n",
        "\n",
        "from sklearn import svm\n",
        "clf_svm_rec = svm.SVC(C = 0.1, gamma = 0.001,  kernel='linear')\n",
        "clf_svm_rec.fit(X_train, y_train)\n",
        "y_pred = clf_svm_rec.predict(X_test)\n",
        "\n",
        "t1 = time() - t0\n",
        "print(\"Réalisé en {} secondes\".format(round(t1,3)))"
      ],
      "execution_count": 0,
      "outputs": [
        {
          "output_type": "stream",
          "text": [
            "Réalisé en 872.503 secondes\n"
          ],
          "name": "stdout"
        }
      ]
    },
    {
      "metadata": {
        "id": "fVo1ThPURked",
        "colab_type": "code",
        "outputId": "05aaaa1d-3bfd-4463-abe8-8de6e9fb78a6",
        "colab": {
          "base_uri": "https://localhost:8080/",
          "height": 142
        }
      },
      "cell_type": "code",
      "source": [
        "pd.crosstab(y_test, y_pred, rownames=['Classe réelle'], colnames=['Classe prédite'])"
      ],
      "execution_count": 0,
      "outputs": [
        {
          "output_type": "execute_result",
          "data": {
            "text/html": [
              "<div>\n",
              "<style scoped>\n",
              "    .dataframe tbody tr th:only-of-type {\n",
              "        vertical-align: middle;\n",
              "    }\n",
              "\n",
              "    .dataframe tbody tr th {\n",
              "        vertical-align: top;\n",
              "    }\n",
              "\n",
              "    .dataframe thead th {\n",
              "        text-align: right;\n",
              "    }\n",
              "</style>\n",
              "<table border=\"1\" class=\"dataframe\">\n",
              "  <thead>\n",
              "    <tr style=\"text-align: right;\">\n",
              "      <th>Classe prédite</th>\n",
              "      <th>0</th>\n",
              "      <th>1</th>\n",
              "    </tr>\n",
              "    <tr>\n",
              "      <th>Classe réelle</th>\n",
              "      <th></th>\n",
              "      <th></th>\n",
              "    </tr>\n",
              "  </thead>\n",
              "  <tbody>\n",
              "    <tr>\n",
              "      <th>0</th>\n",
              "      <td>361</td>\n",
              "      <td>345</td>\n",
              "    </tr>\n",
              "    <tr>\n",
              "      <th>1</th>\n",
              "      <td>136</td>\n",
              "      <td>3093</td>\n",
              "    </tr>\n",
              "  </tbody>\n",
              "</table>\n",
              "</div>"
            ],
            "text/plain": [
              "Classe prédite    0     1\n",
              "Classe réelle            \n",
              "0               361   345\n",
              "1               136  3093"
            ]
          },
          "metadata": {
            "tags": []
          },
          "execution_count": 31
        }
      ]
    },
    {
      "metadata": {
        "id": "SXp_MybF7hKP",
        "colab_type": "text"
      },
      "cell_type": "markdown",
      "source": [
        "## Decision Tree"
      ]
    },
    {
      "metadata": {
        "id": "P9IthlD-7vUo",
        "colab_type": "code",
        "outputId": "befdf810-0c1e-45ab-9e8b-7843d198febd",
        "colab": {
          "base_uri": "https://localhost:8080/",
          "height": 34
        }
      },
      "cell_type": "code",
      "source": [
        "from sklearn.tree import DecisionTreeClassifier\n",
        "\n",
        "t0 = time()\n",
        "\n",
        "dtc_rec = DecisionTreeClassifier(max_depth = 3)\n",
        "dtc_rec.fit(X_train, y_train)\n",
        "y_pred = dtc_rec.predict(X_test)\n",
        "\n",
        "\n",
        "\n",
        "t1 = time() - t0\n",
        "print(\"Réalisé en {} secondes\".format(round(t1,3)))"
      ],
      "execution_count": 0,
      "outputs": [
        {
          "output_type": "stream",
          "text": [
            "Réalisé en 4.984 secondes\n"
          ],
          "name": "stdout"
        }
      ]
    },
    {
      "metadata": {
        "id": "SGWYTP6N-bPR",
        "colab_type": "code",
        "outputId": "cb982faf-a069-4b08-b194-146e23a09e6b",
        "colab": {
          "base_uri": "https://localhost:8080/",
          "height": 238
        }
      },
      "cell_type": "code",
      "source": [
        "print( classification_report(y_test, y_pred) )\n",
        "cm_dtc_rec = pd.crosstab(y_test, y_pred, rownames=['Classe réelle'], colnames=['Classe prédite'])\n",
        "print(cm_dtc_rec)"
      ],
      "execution_count": 0,
      "outputs": [
        {
          "output_type": "stream",
          "text": [
            "              precision    recall  f1-score   support\n",
            "\n",
            "           0       0.68      0.24      0.35       706\n",
            "           1       0.85      0.98      0.91      3229\n",
            "\n",
            "   micro avg       0.84      0.84      0.84      3935\n",
            "   macro avg       0.76      0.61      0.63      3935\n",
            "weighted avg       0.82      0.84      0.81      3935\n",
            "\n",
            "Classe prédite    0     1\n",
            "Classe réelle            \n",
            "0               167   539\n",
            "1                80  3149\n"
          ],
          "name": "stdout"
        }
      ]
    },
    {
      "metadata": {
        "id": "jfEZOM0m_38D",
        "colab_type": "code",
        "outputId": "8ffbac5e-b278-4cfb-bbad-4bfe12dea0f7",
        "colab": {
          "base_uri": "https://localhost:8080/",
          "height": 34
        }
      },
      "cell_type": "code",
      "source": [
        "from sklearn.ensemble import BaggingClassifier\n",
        "\n",
        "t0 = time()\n",
        "\n",
        "dtc_rec_u = DecisionTreeClassifier(max_depth = 3)\n",
        "bc = BaggingClassifier(base_estimator = dtc_rec_u, n_estimators = 100, max_samples = 0.5, max_features=0.7)\n",
        "bc.fit(X_train, y_train)\n",
        "y_pred = bc.predict(X_test)\n",
        "\n",
        "t1 = time() - t0\n",
        "print(\"Réalisé en {} secondes\".format(round(t1,3)))"
      ],
      "execution_count": 0,
      "outputs": [
        {
          "output_type": "stream",
          "text": [
            "Réalisé en 203.067 secondes\n"
          ],
          "name": "stdout"
        }
      ]
    },
    {
      "metadata": {
        "id": "GTPg4a9ObVZU",
        "colab_type": "code",
        "outputId": "d7441a8e-2ef0-4063-e5de-be07b574b538",
        "colab": {
          "base_uri": "https://localhost:8080/",
          "height": 238
        }
      },
      "cell_type": "code",
      "source": [
        "print( classification_report(y_test, y_pred) )\n",
        "cm_bc_rec = pd.crosstab(y_test, y_pred, rownames=['Classe réelle'], colnames=['Classe prédite'])\n",
        "print(cm_bc_rec)"
      ],
      "execution_count": 0,
      "outputs": [
        {
          "output_type": "stream",
          "text": [
            "              precision    recall  f1-score   support\n",
            "\n",
            "           0       0.72      0.20      0.31       706\n",
            "           1       0.85      0.98      0.91      3229\n",
            "\n",
            "   micro avg       0.84      0.84      0.84      3935\n",
            "   macro avg       0.78      0.59      0.61      3935\n",
            "weighted avg       0.82      0.84      0.80      3935\n",
            "\n",
            "Classe prédite    0     1\n",
            "Classe réelle            \n",
            "0               141   565\n",
            "1                56  3173\n"
          ],
          "name": "stdout"
        }
      ]
    },
    {
      "metadata": {
        "id": "KWQziVupdE_1",
        "colab_type": "text"
      },
      "cell_type": "markdown",
      "source": [
        "## AdA"
      ]
    },
    {
      "metadata": {
        "id": "WIm_WUx3dMDE",
        "colab_type": "code",
        "outputId": "b86791ec-ed69-4160-c42b-1875b5d7ce03",
        "colab": {
          "base_uri": "https://localhost:8080/",
          "height": 34
        }
      },
      "cell_type": "code",
      "source": [
        "from sklearn.ensemble import AdaBoostClassifier\n",
        "\n",
        "t0 = time()\n",
        "\n",
        "ac = AdaBoostClassifier(base_estimator = dtc_rec_u, learning_rate = 0.1, n_estimators = 100)\n",
        "ac.fit(X_train, y_train)\n",
        "y_pred = ac.predict(X_test)\n",
        "\n",
        "\n",
        "t1 = time() - t0\n",
        "print(\"Réalisé en {} secondes\".format(round(t1,3)))\n",
        "\n"
      ],
      "execution_count": 0,
      "outputs": [
        {
          "output_type": "stream",
          "text": [
            "Réalisé en 514.258 secondes\n"
          ],
          "name": "stdout"
        }
      ]
    },
    {
      "metadata": {
        "id": "wlIiUF-hhKmz",
        "colab_type": "code",
        "outputId": "48235739-cbb7-4fc9-d47b-f1a207540bd0",
        "colab": {
          "base_uri": "https://localhost:8080/",
          "height": 238
        }
      },
      "cell_type": "code",
      "source": [
        "print( classification_report(y_test, y_pred) )\n",
        "cm_ac_rec = pd.crosstab(y_test, y_pred, rownames=['Classe réelle'], colnames=['Classe prédite'])\n",
        "print(cm_ac_rec)"
      ],
      "execution_count": 0,
      "outputs": [
        {
          "output_type": "stream",
          "text": [
            "              precision    recall  f1-score   support\n",
            "\n",
            "           0       0.79      0.35      0.49       706\n",
            "           1       0.87      0.98      0.92      3229\n",
            "\n",
            "   micro avg       0.87      0.87      0.87      3935\n",
            "   macro avg       0.83      0.67      0.71      3935\n",
            "weighted avg       0.86      0.87      0.85      3935\n",
            "\n",
            "Classe prédite    0     1\n",
            "Classe réelle            \n",
            "0               249   457\n",
            "1                67  3162\n"
          ],
          "name": "stdout"
        }
      ]
    },
    {
      "metadata": {
        "id": "Hbr_wmsIezJX",
        "colab_type": "text"
      },
      "cell_type": "markdown",
      "source": [
        "# **Y = Rating**"
      ]
    },
    {
      "metadata": {
        "id": "xQG5ytz7XS6d",
        "colab_type": "code",
        "colab": {}
      },
      "cell_type": "code",
      "source": [
        "X = df['Title']\n",
        "\n",
        "y = df['Rating']\n",
        "\n",
        "X_train, X_test, y_train, y_test = train_test_split(X, y, test_size=0.2, random_state = 123)"
      ],
      "execution_count": 0,
      "outputs": []
    },
    {
      "metadata": {
        "id": "PB6bK_LvfESC",
        "colab_type": "code",
        "colab": {}
      },
      "cell_type": "code",
      "source": [
        "from sklearn.feature_extraction.text import CountVectorizer\n",
        "\n",
        "vectorizer = CountVectorizer()\n",
        "\n",
        "X_train = vectorizer.fit_transform(X_train).todense()\n",
        "X_test = vectorizer.transform(X_test).todense()"
      ],
      "execution_count": 0,
      "outputs": []
    },
    {
      "metadata": {
        "id": "mkMIlessiwEs",
        "colab_type": "text"
      },
      "cell_type": "markdown",
      "source": [
        "## Logistic Regression"
      ]
    },
    {
      "metadata": {
        "id": "C6B0wLtGfKTj",
        "colab_type": "code",
        "outputId": "3a810de8-bc96-4ff4-e023-8aeaa0da33b7",
        "colab": {
          "base_uri": "https://localhost:8080/",
          "height": 122
        }
      },
      "cell_type": "code",
      "source": [
        "t0 = time()\n",
        "from sklearn.linear_model import LogisticRegression\n",
        "\n",
        "clf_lr = LogisticRegression(C = 1.0)\n",
        "clf_lr.fit(X_train, y_train)\n",
        "y_pred = clf_lr.predict(X_test)\n",
        "\n",
        "t1 = time() - t0\n",
        "print(\"Réalisé en {} secondes\".format(round(t1,3)))"
      ],
      "execution_count": 0,
      "outputs": [
        {
          "output_type": "stream",
          "text": [
            "/usr/local/lib/python3.6/dist-packages/sklearn/linear_model/logistic.py:433: FutureWarning: Default solver will be changed to 'lbfgs' in 0.22. Specify a solver to silence this warning.\n",
            "  FutureWarning)\n",
            "/usr/local/lib/python3.6/dist-packages/sklearn/linear_model/logistic.py:460: FutureWarning: Default multi_class will be changed to 'auto' in 0.22. Specify the multi_class option to silence this warning.\n",
            "  \"this warning.\", FutureWarning)\n"
          ],
          "name": "stderr"
        },
        {
          "output_type": "stream",
          "text": [
            "Réalisé en 1.061 secondes\n"
          ],
          "name": "stdout"
        }
      ]
    },
    {
      "metadata": {
        "id": "rHKR2N2ffiwx",
        "colab_type": "code",
        "outputId": "04b83df7-a2b1-4655-8b0f-6a03a2c85b8f",
        "colab": {
          "base_uri": "https://localhost:8080/",
          "height": 340
        }
      },
      "cell_type": "code",
      "source": [
        "print( classification_report(y_test, y_pred) )\n",
        "\n",
        "cm_lr_rat = pd.crosstab(y_test, y_pred, rownames=['Classe réelle'], colnames=['Classe prédite'])\n",
        "print(cm_lr_rat)"
      ],
      "execution_count": 0,
      "outputs": [
        {
          "output_type": "stream",
          "text": [
            "              precision    recall  f1-score   support\n",
            "\n",
            "           1       0.35      0.18      0.24       131\n",
            "           2       0.35      0.20      0.26       275\n",
            "           3       0.42      0.35      0.38       486\n",
            "           4       0.42      0.23      0.30       866\n",
            "           5       0.72      0.94      0.81      2177\n",
            "\n",
            "   micro avg       0.63      0.63      0.63      3935\n",
            "   macro avg       0.45      0.38      0.40      3935\n",
            "weighted avg       0.58      0.63      0.59      3935\n",
            "\n",
            "Classe prédite   1   2    3    4     5\n",
            "Classe réelle                         \n",
            "1               24  22   36   12    37\n",
            "2               26  55   97   37    60\n",
            "3               15  59  168  124   120\n",
            "4                2  12   74  203   575\n",
            "5                2   7   26  102  2040\n"
          ],
          "name": "stdout"
        }
      ]
    },
    {
      "metadata": {
        "id": "F6FH7tJ7f9VG",
        "colab_type": "code",
        "outputId": "affbd0d4-3938-48b0-83c5-7b561a75b011",
        "colab": {
          "base_uri": "https://localhost:8080/",
          "height": 378
        }
      },
      "cell_type": "code",
      "source": [
        "sns.heatmap(cm_lr_rat, annot=True, fmt=\"d\", cmap=\"YlGnBu\")"
      ],
      "execution_count": 0,
      "outputs": [
        {
          "output_type": "execute_result",
          "data": {
            "text/plain": [
              "<matplotlib.axes._subplots.AxesSubplot at 0x7f188d3fc9e8>"
            ]
          },
          "metadata": {
            "tags": []
          },
          "execution_count": 39
        },
        {
          "output_type": "display_data",
          "data": {
            "image/png": "[encoded data removed]",
            "text/plain": [
              "<Figure size 576x396 with 2 Axes>"
            ]
          },
          "metadata": {
            "tags": []
          }
        }
      ]
    },
    {
      "metadata": {
        "id": "B75LhCl4jBN_",
        "colab_type": "text"
      },
      "cell_type": "markdown",
      "source": [
        "## SVM"
      ]
    },
    {
      "metadata": {
        "id": "yoZuGoRmgIKg",
        "colab_type": "code",
        "outputId": "88b15596-1514-4e37-830e-6c4322ceb501",
        "colab": {
          "base_uri": "https://localhost:8080/",
          "height": 34
        }
      },
      "cell_type": "code",
      "source": [
        "t0 = time()\n",
        "\n",
        "from sklearn import svm\n",
        "clf_svm_rat = svm.SVC(C = 0.1, gamma = 0.001,  kernel='linear')\n",
        "clf_svm_rat.fit(X_train, y_train)\n",
        "y_pred = clf_svm_rat.predict(X_test)\n",
        "\n",
        "t1 = time() - t0\n",
        "print(\"Réalisé en {} secondes\".format(round(t1,3)))"
      ],
      "execution_count": 0,
      "outputs": [
        {
          "output_type": "stream",
          "text": [
            "Réalisé en 1862.639 secondes\n"
          ],
          "name": "stdout"
        }
      ]
    },
    {
      "metadata": {
        "id": "yaGf1S3tjc9G",
        "colab_type": "code",
        "outputId": "38a5fb22-4949-43dd-9f19-2714633f0704",
        "colab": {
          "base_uri": "https://localhost:8080/",
          "height": 340
        }
      },
      "cell_type": "code",
      "source": [
        "print( classification_report(y_test, y_pred) )\n",
        "cm_svm_rat = pd.crosstab(y_test, y_pred, rownames=['Classe réelle'], colnames=['Classe prédite'])\n",
        "print(cm_svm_rat)"
      ],
      "execution_count": 0,
      "outputs": [
        {
          "output_type": "stream",
          "text": [
            "              precision    recall  f1-score   support\n",
            "\n",
            "           1       0.67      0.05      0.09       131\n",
            "           2       0.48      0.04      0.08       275\n",
            "           3       0.39      0.40      0.39       486\n",
            "           4       0.42      0.15      0.22       866\n",
            "           5       0.68      0.96      0.80      2177\n",
            "\n",
            "   micro avg       0.62      0.62      0.62      3935\n",
            "   macro avg       0.53      0.32      0.32      3935\n",
            "weighted avg       0.57      0.62      0.55      3935\n",
            "\n",
            "Classe prédite  1   2    3    4     5\n",
            "Classe réelle                        \n",
            "1               6   1   56   11    57\n",
            "2               2  12  136   30    95\n",
            "3               1  11  192   90   192\n",
            "4               0   1   84  131   650\n",
            "5               0   0   28   50  2099\n"
          ],
          "name": "stdout"
        }
      ]
    },
    {
      "metadata": {
        "id": "pO_5pc6er2Sf",
        "colab_type": "code",
        "outputId": "04871aeb-dbd3-4095-b3e2-05f6a43bf0c1",
        "colab": {
          "base_uri": "https://localhost:8080/",
          "height": 378
        }
      },
      "cell_type": "code",
      "source": [
        "sns.heatmap(cm_svm_rat, annot=True, fmt=\"d\", cmap=\"YlGnBu\")"
      ],
      "execution_count": 0,
      "outputs": [
        {
          "output_type": "execute_result",
          "data": {
            "text/plain": [
              "<matplotlib.axes._subplots.AxesSubplot at 0x7f188d3b65c0>"
            ]
          },
          "metadata": {
            "tags": []
          },
          "execution_count": 42
        },
        {
          "output_type": "display_data",
          "data": {
            "image/png": "[encoded data removed]",
            "text/plain": [
              "<Figure size 576x396 with 2 Axes>"
            ]
          },
          "metadata": {
            "tags": []
          }
        }
      ]
    },
    {
      "metadata": {
        "id": "8dQFOnBPsPF6",
        "colab_type": "code",
        "outputId": "44207f06-f4f0-4ad3-d9a6-08aacb41f017",
        "colab": {
          "base_uri": "https://localhost:8080/",
          "height": 34
        }
      },
      "cell_type": "code",
      "source": [
        "2099/(2099+50+28)"
      ],
      "execution_count": 0,
      "outputs": [
        {
          "output_type": "execute_result",
          "data": {
            "text/plain": [
              "0.9641708773541571"
            ]
          },
          "metadata": {
            "tags": []
          },
          "execution_count": 43
        }
      ]
    },
    {
      "metadata": {
        "id": "92y4m3QYtC5D",
        "colab_type": "code",
        "outputId": "35fd8a77-9b97-40a9-a898-923fb741fc98",
        "colab": {
          "base_uri": "https://localhost:8080/",
          "height": 34
        }
      },
      "cell_type": "code",
      "source": [
        "2099/(2099+650+192+95+57)"
      ],
      "execution_count": 0,
      "outputs": [
        {
          "output_type": "execute_result",
          "data": {
            "text/plain": [
              "0.678629162625283"
            ]
          },
          "metadata": {
            "tags": []
          },
          "execution_count": 44
        }
      ]
    },
    {
      "metadata": {
        "id": "g-41NDEQtX53",
        "colab_type": "code",
        "outputId": "f7097bd5-f0e2-4441-887c-0344e050692c",
        "colab": {
          "base_uri": "https://localhost:8080/",
          "height": 34
        }
      },
      "cell_type": "code",
      "source": [
        "2*0.9641708773541571*0.678629162625283/(0.9641708773541571+0.678629162625283)"
      ],
      "execution_count": 0,
      "outputs": [
        {
          "output_type": "execute_result",
          "data": {
            "text/plain": [
              "0.7965844402277039"
            ]
          },
          "metadata": {
            "tags": []
          },
          "execution_count": 45
        }
      ]
    },
    {
      "metadata": {
        "id": "xQxQHy-cxl4R",
        "colab_type": "code",
        "colab": {}
      },
      "cell_type": "code",
      "source": [
        ""
      ],
      "execution_count": 0,
      "outputs": []
    },
    {
      "metadata": {
        "id": "Q5I4T2bB7IQU",
        "colab_type": "text"
      },
      "cell_type": "markdown",
      "source": [
        "\n"
      ]
    },
    {
      "metadata": {
        "id": "miOZ25FsszOB",
        "colab_type": "code",
        "colab": {}
      },
      "cell_type": "code",
      "source": [
        ""
      ],
      "execution_count": 0,
      "outputs": []
    }
  ]
}