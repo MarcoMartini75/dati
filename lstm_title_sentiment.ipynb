{
  "nbformat": 4,
  "nbformat_minor": 0,
  "metadata": {
    "colab": {
      "name": "lstm_title_sentiment.ipynb",
      "version": "0.3.2",
      "provenance": [],
      "collapsed_sections": [],
      "include_colab_link": true
    },
    "kernelspec": {
      "name": "python3",
      "display_name": "Python 3"
    }
  },
  "cells": [
    {
      "cell_type": "markdown",
      "metadata": {
        "id": "view-in-github",
        "colab_type": "text"
      },
      "source": [
        "<a href=\"https://colab.research.google.com/github/MarcoMartini75/dati/blob/master/lstm_title_sentiment.ipynb\" target=\"_parent\"><img src=\"https://colab.research.google.com/assets/colab-badge.svg\" alt=\"Open In Colab\"/></a>"
      ]
    },
    {
      "metadata": {
        "id": "EraPVMOHzX0V",
        "colab_type": "code",
        "outputId": "bb594e13-9bdd-4462-9a6b-f51043f61ef9",
        "colab": {
          "base_uri": "https://localhost:8080/",
          "height": 34
        }
      },
      "cell_type": "code",
      "source": [
        "import numpy as np \n",
        "import pandas as pd \n",
        "from keras.layers import Dense, Embedding, LSTM, SpatialDropout1D\n",
        "from keras.models import Sequential\n",
        "from sklearn.feature_extraction.text import CountVectorizer\n",
        "from keras.preprocessing.text import Tokenizer\n",
        "from keras.preprocessing.sequence import pad_sequences\n",
        "from sklearn.model_selection import train_test_split\n",
        "from keras.utils.np_utils import to_categorical\n",
        "from keras.callbacks import EarlyStopping"
      ],
      "execution_count": 1,
      "outputs": [
        {
          "output_type": "stream",
          "text": [
            "Using TensorFlow backend.\n"
          ],
          "name": "stderr"
        }
      ]
    },
    {
      "metadata": {
        "id": "iQCQD95gzdgy",
        "colab_type": "code",
        "outputId": "0cbd522b-badd-4158-fae0-095cb06d96e9",
        "colab": {
          "base_uri": "https://localhost:8080/",
          "height": 119
        }
      },
      "cell_type": "code",
      "source": [
        "! git clone --recursive https://github.com/MarcoMartini75/dati"
      ],
      "execution_count": 2,
      "outputs": [
        {
          "output_type": "stream",
          "text": [
            "Cloning into 'dati'...\n",
            "remote: Enumerating objects: 15, done.\u001b[K\n",
            "remote: Counting objects: 100% (15/15), done.\u001b[K\n",
            "remote: Compressing objects: 100% (15/15), done.\u001b[K\n",
            "remote: Total 15 (delta 6), reused 0 (delta 0), pack-reused 0\u001b[K\n",
            "Unpacking objects: 100% (15/15), done.\n"
          ],
          "name": "stdout"
        }
      ]
    },
    {
      "metadata": {
        "id": "3auqhGiqzobM",
        "colab_type": "code",
        "outputId": "a56d393f-a6ba-4370-b765-98f2ed1b7a34",
        "colab": {
          "base_uri": "https://localhost:8080/",
          "height": 1161
        }
      },
      "cell_type": "code",
      "source": [
        "df_s = pd.read_csv(\"/content/dati/data_feelings.csv\", index_col = 0)\n",
        "df_s.head(10)"
      ],
      "execution_count": 3,
      "outputs": [
        {
          "output_type": "execute_result",
          "data": {
            "text/html": [
              "<div>\n",
              "<style scoped>\n",
              "    .dataframe tbody tr th:only-of-type {\n",
              "        vertical-align: middle;\n",
              "    }\n",
              "\n",
              "    .dataframe tbody tr th {\n",
              "        vertical-align: top;\n",
              "    }\n",
              "\n",
              "    .dataframe thead th {\n",
              "        text-align: right;\n",
              "    }\n",
              "</style>\n",
              "<table border=\"1\" class=\"dataframe\">\n",
              "  <thead>\n",
              "    <tr style=\"text-align: right;\">\n",
              "      <th></th>\n",
              "      <th>Clothing ID</th>\n",
              "      <th>Age</th>\n",
              "      <th>Title</th>\n",
              "      <th>Review Text</th>\n",
              "      <th>Rating</th>\n",
              "      <th>Recommended IND</th>\n",
              "      <th>Positive Feedback Count</th>\n",
              "      <th>Division Name</th>\n",
              "      <th>Department Name</th>\n",
              "      <th>Class Name</th>\n",
              "      <th>Polarity_Score_title</th>\n",
              "      <th>Negative_Score_title</th>\n",
              "      <th>Neutral_Score_title</th>\n",
              "      <th>Positive_Score_title</th>\n",
              "      <th>feeling_title</th>\n",
              "      <th>Polarity_Score_text</th>\n",
              "      <th>Negative_Score_text</th>\n",
              "      <th>Neutral_Score_text</th>\n",
              "      <th>Positive_Score_text</th>\n",
              "      <th>feeling_text</th>\n",
              "    </tr>\n",
              "  </thead>\n",
              "  <tbody>\n",
              "    <tr>\n",
              "      <th>0</th>\n",
              "      <td>767</td>\n",
              "      <td>33</td>\n",
              "      <td>NaN</td>\n",
              "      <td>Absolutely wonderful - silky and sexy and comf...</td>\n",
              "      <td>4</td>\n",
              "      <td>1</td>\n",
              "      <td>0</td>\n",
              "      <td>Initmates</td>\n",
              "      <td>Intimate</td>\n",
              "      <td>Intimates</td>\n",
              "      <td>NaN</td>\n",
              "      <td>NaN</td>\n",
              "      <td>NaN</td>\n",
              "      <td>NaN</td>\n",
              "      <td>NaN</td>\n",
              "      <td>0.8932</td>\n",
              "      <td>0.000</td>\n",
              "      <td>0.272</td>\n",
              "      <td>0.728</td>\n",
              "      <td>pos</td>\n",
              "    </tr>\n",
              "    <tr>\n",
              "      <th>1</th>\n",
              "      <td>1080</td>\n",
              "      <td>34</td>\n",
              "      <td>NaN</td>\n",
              "      <td>Love this dress!  it's sooo pretty.  i happene...</td>\n",
              "      <td>5</td>\n",
              "      <td>1</td>\n",
              "      <td>4</td>\n",
              "      <td>General</td>\n",
              "      <td>Dresses</td>\n",
              "      <td>Dresses</td>\n",
              "      <td>NaN</td>\n",
              "      <td>NaN</td>\n",
              "      <td>NaN</td>\n",
              "      <td>NaN</td>\n",
              "      <td>NaN</td>\n",
              "      <td>0.9729</td>\n",
              "      <td>0.000</td>\n",
              "      <td>0.664</td>\n",
              "      <td>0.336</td>\n",
              "      <td>pos</td>\n",
              "    </tr>\n",
              "    <tr>\n",
              "      <th>2</th>\n",
              "      <td>1077</td>\n",
              "      <td>60</td>\n",
              "      <td>Some major design flaws</td>\n",
              "      <td>I had such high hopes for this dress and reall...</td>\n",
              "      <td>3</td>\n",
              "      <td>0</td>\n",
              "      <td>0</td>\n",
              "      <td>General</td>\n",
              "      <td>Dresses</td>\n",
              "      <td>Dresses</td>\n",
              "      <td>0.0000</td>\n",
              "      <td>0.0</td>\n",
              "      <td>1.000</td>\n",
              "      <td>0.000</td>\n",
              "      <td>neu</td>\n",
              "      <td>0.9427</td>\n",
              "      <td>0.027</td>\n",
              "      <td>0.792</td>\n",
              "      <td>0.181</td>\n",
              "      <td>pos</td>\n",
              "    </tr>\n",
              "    <tr>\n",
              "      <th>3</th>\n",
              "      <td>1049</td>\n",
              "      <td>50</td>\n",
              "      <td>My favorite buy!</td>\n",
              "      <td>I love, love, love this jumpsuit. it's fun, fl...</td>\n",
              "      <td>5</td>\n",
              "      <td>1</td>\n",
              "      <td>0</td>\n",
              "      <td>General Petite</td>\n",
              "      <td>Bottoms</td>\n",
              "      <td>Pants</td>\n",
              "      <td>0.5093</td>\n",
              "      <td>0.0</td>\n",
              "      <td>0.378</td>\n",
              "      <td>0.622</td>\n",
              "      <td>pos</td>\n",
              "      <td>0.5727</td>\n",
              "      <td>0.226</td>\n",
              "      <td>0.340</td>\n",
              "      <td>0.434</td>\n",
              "      <td>pos</td>\n",
              "    </tr>\n",
              "    <tr>\n",
              "      <th>4</th>\n",
              "      <td>847</td>\n",
              "      <td>47</td>\n",
              "      <td>Flattering shirt</td>\n",
              "      <td>This shirt is very flattering to all due to th...</td>\n",
              "      <td>5</td>\n",
              "      <td>1</td>\n",
              "      <td>6</td>\n",
              "      <td>General</td>\n",
              "      <td>Tops</td>\n",
              "      <td>Blouses</td>\n",
              "      <td>0.3182</td>\n",
              "      <td>0.0</td>\n",
              "      <td>0.303</td>\n",
              "      <td>0.697</td>\n",
              "      <td>pos</td>\n",
              "      <td>0.9291</td>\n",
              "      <td>0.000</td>\n",
              "      <td>0.700</td>\n",
              "      <td>0.300</td>\n",
              "      <td>pos</td>\n",
              "    </tr>\n",
              "    <tr>\n",
              "      <th>5</th>\n",
              "      <td>1080</td>\n",
              "      <td>49</td>\n",
              "      <td>Not for the very petite</td>\n",
              "      <td>I love tracy reese dresses, but this one is no...</td>\n",
              "      <td>2</td>\n",
              "      <td>0</td>\n",
              "      <td>4</td>\n",
              "      <td>General</td>\n",
              "      <td>Dresses</td>\n",
              "      <td>Dresses</td>\n",
              "      <td>0.0000</td>\n",
              "      <td>0.0</td>\n",
              "      <td>1.000</td>\n",
              "      <td>0.000</td>\n",
              "      <td>neu</td>\n",
              "      <td>0.9419</td>\n",
              "      <td>0.000</td>\n",
              "      <td>0.853</td>\n",
              "      <td>0.147</td>\n",
              "      <td>pos</td>\n",
              "    </tr>\n",
              "    <tr>\n",
              "      <th>6</th>\n",
              "      <td>858</td>\n",
              "      <td>39</td>\n",
              "      <td>Cagrcoal shimmer fun</td>\n",
              "      <td>I aded this in my basket at hte last mintue to...</td>\n",
              "      <td>5</td>\n",
              "      <td>1</td>\n",
              "      <td>1</td>\n",
              "      <td>General Petite</td>\n",
              "      <td>Tops</td>\n",
              "      <td>Knits</td>\n",
              "      <td>0.5106</td>\n",
              "      <td>0.0</td>\n",
              "      <td>0.377</td>\n",
              "      <td>0.623</td>\n",
              "      <td>pos</td>\n",
              "      <td>0.8004</td>\n",
              "      <td>0.023</td>\n",
              "      <td>0.881</td>\n",
              "      <td>0.096</td>\n",
              "      <td>pos</td>\n",
              "    </tr>\n",
              "    <tr>\n",
              "      <th>7</th>\n",
              "      <td>858</td>\n",
              "      <td>39</td>\n",
              "      <td>Shimmer, surprisingly goes with lots</td>\n",
              "      <td>I ordered this in carbon for store pick up, an...</td>\n",
              "      <td>4</td>\n",
              "      <td>1</td>\n",
              "      <td>4</td>\n",
              "      <td>General Petite</td>\n",
              "      <td>Tops</td>\n",
              "      <td>Knits</td>\n",
              "      <td>0.2960</td>\n",
              "      <td>0.0</td>\n",
              "      <td>0.645</td>\n",
              "      <td>0.355</td>\n",
              "      <td>pos</td>\n",
              "      <td>-0.0909</td>\n",
              "      <td>0.046</td>\n",
              "      <td>0.901</td>\n",
              "      <td>0.053</td>\n",
              "      <td>neg</td>\n",
              "    </tr>\n",
              "    <tr>\n",
              "      <th>8</th>\n",
              "      <td>1077</td>\n",
              "      <td>24</td>\n",
              "      <td>Flattering</td>\n",
              "      <td>I love this dress. i usually get an xs but it ...</td>\n",
              "      <td>5</td>\n",
              "      <td>1</td>\n",
              "      <td>0</td>\n",
              "      <td>General</td>\n",
              "      <td>Dresses</td>\n",
              "      <td>Dresses</td>\n",
              "      <td>0.3182</td>\n",
              "      <td>0.0</td>\n",
              "      <td>0.000</td>\n",
              "      <td>1.000</td>\n",
              "      <td>pos</td>\n",
              "      <td>0.7175</td>\n",
              "      <td>0.000</td>\n",
              "      <td>0.818</td>\n",
              "      <td>0.182</td>\n",
              "      <td>pos</td>\n",
              "    </tr>\n",
              "    <tr>\n",
              "      <th>9</th>\n",
              "      <td>1077</td>\n",
              "      <td>34</td>\n",
              "      <td>Such a fun dress!</td>\n",
              "      <td>I'm 5\"5' and 125 lbs. i ordered the s petite t...</td>\n",
              "      <td>5</td>\n",
              "      <td>1</td>\n",
              "      <td>0</td>\n",
              "      <td>General</td>\n",
              "      <td>Dresses</td>\n",
              "      <td>Dresses</td>\n",
              "      <td>0.5562</td>\n",
              "      <td>0.0</td>\n",
              "      <td>0.358</td>\n",
              "      <td>0.642</td>\n",
              "      <td>pos</td>\n",
              "      <td>-0.3724</td>\n",
              "      <td>0.120</td>\n",
              "      <td>0.753</td>\n",
              "      <td>0.126</td>\n",
              "      <td>neg</td>\n",
              "    </tr>\n",
              "  </tbody>\n",
              "</table>\n",
              "</div>"
            ],
            "text/plain": [
              "   Clothing ID  Age                                 Title  \\\n",
              "0          767   33                                   NaN   \n",
              "1         1080   34                                   NaN   \n",
              "2         1077   60               Some major design flaws   \n",
              "3         1049   50                      My favorite buy!   \n",
              "4          847   47                      Flattering shirt   \n",
              "5         1080   49               Not for the very petite   \n",
              "6          858   39                  Cagrcoal shimmer fun   \n",
              "7          858   39  Shimmer, surprisingly goes with lots   \n",
              "8         1077   24                            Flattering   \n",
              "9         1077   34                     Such a fun dress!   \n",
              "\n",
              "                                         Review Text  Rating  Recommended IND  \\\n",
              "0  Absolutely wonderful - silky and sexy and comf...       4                1   \n",
              "1  Love this dress!  it's sooo pretty.  i happene...       5                1   \n",
              "2  I had such high hopes for this dress and reall...       3                0   \n",
              "3  I love, love, love this jumpsuit. it's fun, fl...       5                1   \n",
              "4  This shirt is very flattering to all due to th...       5                1   \n",
              "5  I love tracy reese dresses, but this one is no...       2                0   \n",
              "6  I aded this in my basket at hte last mintue to...       5                1   \n",
              "7  I ordered this in carbon for store pick up, an...       4                1   \n",
              "8  I love this dress. i usually get an xs but it ...       5                1   \n",
              "9  I'm 5\"5' and 125 lbs. i ordered the s petite t...       5                1   \n",
              "\n",
              "   Positive Feedback Count   Division Name Department Name Class Name  \\\n",
              "0                        0       Initmates        Intimate  Intimates   \n",
              "1                        4         General         Dresses    Dresses   \n",
              "2                        0         General         Dresses    Dresses   \n",
              "3                        0  General Petite         Bottoms      Pants   \n",
              "4                        6         General            Tops    Blouses   \n",
              "5                        4         General         Dresses    Dresses   \n",
              "6                        1  General Petite            Tops      Knits   \n",
              "7                        4  General Petite            Tops      Knits   \n",
              "8                        0         General         Dresses    Dresses   \n",
              "9                        0         General         Dresses    Dresses   \n",
              "\n",
              "   Polarity_Score_title  Negative_Score_title  Neutral_Score_title  \\\n",
              "0                   NaN                   NaN                  NaN   \n",
              "1                   NaN                   NaN                  NaN   \n",
              "2                0.0000                   0.0                1.000   \n",
              "3                0.5093                   0.0                0.378   \n",
              "4                0.3182                   0.0                0.303   \n",
              "5                0.0000                   0.0                1.000   \n",
              "6                0.5106                   0.0                0.377   \n",
              "7                0.2960                   0.0                0.645   \n",
              "8                0.3182                   0.0                0.000   \n",
              "9                0.5562                   0.0                0.358   \n",
              "\n",
              "   Positive_Score_title feeling_title  Polarity_Score_text  \\\n",
              "0                   NaN           NaN               0.8932   \n",
              "1                   NaN           NaN               0.9729   \n",
              "2                 0.000           neu               0.9427   \n",
              "3                 0.622           pos               0.5727   \n",
              "4                 0.697           pos               0.9291   \n",
              "5                 0.000           neu               0.9419   \n",
              "6                 0.623           pos               0.8004   \n",
              "7                 0.355           pos              -0.0909   \n",
              "8                 1.000           pos               0.7175   \n",
              "9                 0.642           pos              -0.3724   \n",
              "\n",
              "   Negative_Score_text  Neutral_Score_text  Positive_Score_text feeling_text  \n",
              "0                0.000               0.272                0.728          pos  \n",
              "1                0.000               0.664                0.336          pos  \n",
              "2                0.027               0.792                0.181          pos  \n",
              "3                0.226               0.340                0.434          pos  \n",
              "4                0.000               0.700                0.300          pos  \n",
              "5                0.000               0.853                0.147          pos  \n",
              "6                0.023               0.881                0.096          pos  \n",
              "7                0.046               0.901                0.053          neg  \n",
              "8                0.000               0.818                0.182          pos  \n",
              "9                0.120               0.753                0.126          neg  "
            ]
          },
          "metadata": {
            "tags": []
          },
          "execution_count": 3
        }
      ]
    },
    {
      "metadata": {
        "id": "avUWqq3bz9ov",
        "colab_type": "code",
        "colab": {}
      },
      "cell_type": "code",
      "source": [
        "data = df_s.dropna(subset=[\"Title\"])"
      ],
      "execution_count": 0,
      "outputs": []
    },
    {
      "metadata": {
        "id": "fhJ-ygjh0QNc",
        "colab_type": "code",
        "outputId": "318c6bf6-019d-4385-8e06-a9d4ba5eaba9",
        "colab": {
          "base_uri": "https://localhost:8080/",
          "height": 85
        }
      },
      "cell_type": "code",
      "source": [
        "data[\"feeling_title\"].value_counts()"
      ],
      "execution_count": 5,
      "outputs": [
        {
          "output_type": "execute_result",
          "data": {
            "text/plain": [
              "pos    13590\n",
              "neu     4740\n",
              "neg     1346\n",
              "Name: feeling_title, dtype: int64"
            ]
          },
          "metadata": {
            "tags": []
          },
          "execution_count": 5
        }
      ]
    },
    {
      "metadata": {
        "id": "nZGRbS1N4-dn",
        "colab_type": "code",
        "outputId": "3fb44ea9-3648-42bd-fd78-4e519ec7bb11",
        "colab": {
          "base_uri": "https://localhost:8080/",
          "height": 119
        }
      },
      "cell_type": "code",
      "source": [
        " data[\"feeling_title\"]= data[\"feeling_title\"].replace(['neg','neu','pos'],['0','1','2']).astype(float)"
      ],
      "execution_count": 6,
      "outputs": [
        {
          "output_type": "stream",
          "text": [
            "/usr/local/lib/python3.6/dist-packages/ipykernel_launcher.py:1: SettingWithCopyWarning: \n",
            "A value is trying to be set on a copy of a slice from a DataFrame.\n",
            "Try using .loc[row_indexer,col_indexer] = value instead\n",
            "\n",
            "See the caveats in the documentation: http://pandas.pydata.org/pandas-docs/stable/indexing.html#indexing-view-versus-copy\n",
            "  \"\"\"Entry point for launching an IPython kernel.\n"
          ],
          "name": "stderr"
        }
      ]
    },
    {
      "metadata": {
        "id": "QViSszR95p2A",
        "colab_type": "code",
        "outputId": "0e6e9547-60d1-4ca2-f643-c82e1a207f44",
        "colab": {
          "base_uri": "https://localhost:8080/",
          "height": 85
        }
      },
      "cell_type": "code",
      "source": [
        "data[\"feeling_title\"].value_counts()"
      ],
      "execution_count": 7,
      "outputs": [
        {
          "output_type": "execute_result",
          "data": {
            "text/plain": [
              "2.0    13590\n",
              "1.0     4740\n",
              "0.0     1346\n",
              "Name: feeling_title, dtype: int64"
            ]
          },
          "metadata": {
            "tags": []
          },
          "execution_count": 7
        }
      ]
    },
    {
      "metadata": {
        "id": "_stO4U5s0bLa",
        "colab_type": "code",
        "outputId": "918e5557-800a-4ff1-a68e-610e7c65f891",
        "colab": {
          "base_uri": "https://localhost:8080/",
          "height": 34
        }
      },
      "cell_type": "code",
      "source": [
        "n_most_common_words = 8000\n",
        "max_len = 130\n",
        "tokenizer = Tokenizer(num_words=n_most_common_words, filters='!\"#$%&()*+,-./:;<=>?@[\\]^_`{|}~', lower=True)\n",
        "tokenizer.fit_on_texts(data['Title'].values)\n",
        "sequences = tokenizer.texts_to_sequences(data['Title'].values)\n",
        "word_index = tokenizer.word_index\n",
        "print('Found %s unique tokens.' % len(word_index))\n",
        "\n",
        "X = pad_sequences(sequences, maxlen=max_len)"
      ],
      "execution_count": 8,
      "outputs": [
        {
          "output_type": "stream",
          "text": [
            "Found 3829 unique tokens.\n"
          ],
          "name": "stdout"
        }
      ]
    },
    {
      "metadata": {
        "id": "ZkH7IDIo6hNY",
        "colab_type": "code",
        "colab": {}
      },
      "cell_type": "code",
      "source": [
        "y_int = data[\"feeling_title\"]"
      ],
      "execution_count": 0,
      "outputs": []
    },
    {
      "metadata": {
        "id": "Uyv6tbot6cjx",
        "colab_type": "code",
        "colab": {}
      },
      "cell_type": "code",
      "source": [
        "from keras.utils import to_categorical\n",
        "y_binary = to_categorical(y_int)"
      ],
      "execution_count": 0,
      "outputs": []
    },
    {
      "metadata": {
        "id": "EJ5J_tfJ15pl",
        "colab_type": "code",
        "colab": {}
      },
      "cell_type": "code",
      "source": [
        "X_train, X_test, y_train, y_test = train_test_split(X , y_binary, test_size=0.25, random_state=42)"
      ],
      "execution_count": 0,
      "outputs": []
    },
    {
      "metadata": {
        "id": "4ehpX58E2BHt",
        "colab_type": "code",
        "colab": {}
      },
      "cell_type": "code",
      "source": [
        "epochs = 25\n",
        "emb_dim = 128\n",
        "batch_size = 256"
      ],
      "execution_count": 0,
      "outputs": []
    },
    {
      "metadata": {
        "id": "pIYiHuZI2tJ_",
        "colab_type": "code",
        "outputId": "daff735e-52b7-4c88-bcb6-bb9f9c6843ff",
        "colab": {
          "base_uri": "https://localhost:8080/",
          "height": 1346
        }
      },
      "cell_type": "code",
      "source": [
        "print((X_train.shape, y_train.shape, X_test.shape, y_test.shape))\n",
        "\n",
        "model = Sequential()\n",
        "model.add(Embedding(n_most_common_words, emb_dim, input_length=X.shape[1]))\n",
        "model.add(SpatialDropout1D(0.7))\n",
        "model.add(LSTM(64, dropout=0.7, recurrent_dropout=0.7))\n",
        "model.add(Dense(3, activation='softmax'))\n",
        "model.compile(optimizer='adam', loss='categorical_crossentropy', metrics=['acc'])\n",
        "print(model.summary())\n",
        "history = model.fit(X_train, y_train, epochs=epochs, batch_size=batch_size,validation_split=0.2,callbacks=[EarlyStopping(monitor='val_loss',patience=7, min_delta=0.0001)])"
      ],
      "execution_count": 14,
      "outputs": [
        {
          "output_type": "stream",
          "text": [
            "((14757, 130), (14757, 3), (4919, 130), (4919, 3))\n",
            "WARNING:tensorflow:From /usr/local/lib/python3.6/dist-packages/tensorflow/python/framework/op_def_library.py:263: colocate_with (from tensorflow.python.framework.ops) is deprecated and will be removed in a future version.\n",
            "Instructions for updating:\n",
            "Colocations handled automatically by placer.\n",
            "WARNING:tensorflow:From /usr/local/lib/python3.6/dist-packages/keras/backend/tensorflow_backend.py:3445: calling dropout (from tensorflow.python.ops.nn_ops) with keep_prob is deprecated and will be removed in a future version.\n",
            "Instructions for updating:\n",
            "Please use `rate` instead of `keep_prob`. Rate should be set to `rate = 1 - keep_prob`.\n",
            "_________________________________________________________________\n",
            "Layer (type)                 Output Shape              Param #   \n",
            "=================================================================\n",
            "embedding_1 (Embedding)      (None, 130, 128)          1024000   \n",
            "_________________________________________________________________\n",
            "spatial_dropout1d_1 (Spatial (None, 130, 128)          0         \n",
            "_________________________________________________________________\n",
            "lstm_1 (LSTM)                (None, 64)                49408     \n",
            "_________________________________________________________________\n",
            "dense_1 (Dense)              (None, 3)                 195       \n",
            "=================================================================\n",
            "Total params: 1,073,603\n",
            "Trainable params: 1,073,603\n",
            "Non-trainable params: 0\n",
            "_________________________________________________________________\n",
            "None\n",
            "WARNING:tensorflow:From /usr/local/lib/python3.6/dist-packages/tensorflow/python/ops/math_ops.py:3066: to_int32 (from tensorflow.python.ops.math_ops) is deprecated and will be removed in a future version.\n",
            "Instructions for updating:\n",
            "Use tf.cast instead.\n",
            "Train on 11805 samples, validate on 2952 samples\n",
            "Epoch 1/25\n",
            "11805/11805 [==============================] - 35s 3ms/step - loss: 0.8811 - acc: 0.6501 - val_loss: 0.7615 - val_acc: 0.6985\n",
            "Epoch 2/25\n",
            "11805/11805 [==============================] - 33s 3ms/step - loss: 0.7449 - acc: 0.6896 - val_loss: 0.6732 - val_acc: 0.6985\n",
            "Epoch 3/25\n",
            "11805/11805 [==============================] - 33s 3ms/step - loss: 0.6223 - acc: 0.7357 - val_loss: 0.4944 - val_acc: 0.8167\n",
            "Epoch 4/25\n",
            "11805/11805 [==============================] - 34s 3ms/step - loss: 0.4812 - acc: 0.8234 - val_loss: 0.3918 - val_acc: 0.8625\n",
            "Epoch 5/25\n",
            "11805/11805 [==============================] - 34s 3ms/step - loss: 0.4006 - acc: 0.8641 - val_loss: 0.3400 - val_acc: 0.8801\n",
            "Epoch 6/25\n",
            "11805/11805 [==============================] - 33s 3ms/step - loss: 0.3404 - acc: 0.8853 - val_loss: 0.2996 - val_acc: 0.8902\n",
            "Epoch 7/25\n",
            "11805/11805 [==============================] - 33s 3ms/step - loss: 0.2952 - acc: 0.9015 - val_loss: 0.2646 - val_acc: 0.9035\n",
            "Epoch 8/25\n",
            "11805/11805 [==============================] - 33s 3ms/step - loss: 0.2601 - acc: 0.9159 - val_loss: 0.2431 - val_acc: 0.9109\n",
            "Epoch 9/25\n",
            "11805/11805 [==============================] - 33s 3ms/step - loss: 0.2309 - acc: 0.9282 - val_loss: 0.2236 - val_acc: 0.9180\n",
            "Epoch 10/25\n",
            "11805/11805 [==============================] - 33s 3ms/step - loss: 0.2106 - acc: 0.9326 - val_loss: 0.2134 - val_acc: 0.9238\n",
            "Epoch 11/25\n",
            "11805/11805 [==============================] - 33s 3ms/step - loss: 0.1960 - acc: 0.9399 - val_loss: 0.2048 - val_acc: 0.9272\n",
            "Epoch 12/25\n",
            "11805/11805 [==============================] - 33s 3ms/step - loss: 0.1789 - acc: 0.9470 - val_loss: 0.1979 - val_acc: 0.9289\n",
            "Epoch 13/25\n",
            "11805/11805 [==============================] - 34s 3ms/step - loss: 0.1699 - acc: 0.9482 - val_loss: 0.1912 - val_acc: 0.9343\n",
            "Epoch 14/25\n",
            "11805/11805 [==============================] - 34s 3ms/step - loss: 0.1611 - acc: 0.9509 - val_loss: 0.1892 - val_acc: 0.9383\n",
            "Epoch 15/25\n",
            "11805/11805 [==============================] - 33s 3ms/step - loss: 0.1459 - acc: 0.9552 - val_loss: 0.1938 - val_acc: 0.9404\n",
            "Epoch 16/25\n",
            "11805/11805 [==============================] - 33s 3ms/step - loss: 0.1436 - acc: 0.9556 - val_loss: 0.1930 - val_acc: 0.9400\n",
            "Epoch 17/25\n",
            "11805/11805 [==============================] - 33s 3ms/step - loss: 0.1425 - acc: 0.9558 - val_loss: 0.1827 - val_acc: 0.9444\n",
            "Epoch 18/25\n",
            "11805/11805 [==============================] - 33s 3ms/step - loss: 0.1340 - acc: 0.9610 - val_loss: 0.1851 - val_acc: 0.9441\n",
            "Epoch 19/25\n",
            "11805/11805 [==============================] - 33s 3ms/step - loss: 0.1291 - acc: 0.9604 - val_loss: 0.1816 - val_acc: 0.9455\n",
            "Epoch 20/25\n",
            "11805/11805 [==============================] - 33s 3ms/step - loss: 0.1295 - acc: 0.9618 - val_loss: 0.1829 - val_acc: 0.9455\n",
            "Epoch 21/25\n",
            "11805/11805 [==============================] - 33s 3ms/step - loss: 0.1226 - acc: 0.9643 - val_loss: 0.1842 - val_acc: 0.9475\n",
            "Epoch 22/25\n",
            "11805/11805 [==============================] - 34s 3ms/step - loss: 0.1196 - acc: 0.9665 - val_loss: 0.1819 - val_acc: 0.9482\n",
            "Epoch 23/25\n",
            "11805/11805 [==============================] - 34s 3ms/step - loss: 0.1138 - acc: 0.9652 - val_loss: 0.1812 - val_acc: 0.9482\n",
            "Epoch 24/25\n",
            "11805/11805 [==============================] - 33s 3ms/step - loss: 0.1103 - acc: 0.9667 - val_loss: 0.1852 - val_acc: 0.9499\n",
            "Epoch 25/25\n",
            "11805/11805 [==============================] - 33s 3ms/step - loss: 0.1067 - acc: 0.9693 - val_loss: 0.1812 - val_acc: 0.9488\n"
          ],
          "name": "stdout"
        }
      ]
    },
    {
      "metadata": {
        "id": "gAg2RcQz244J",
        "colab_type": "code",
        "outputId": "21e065e6-fde2-4fbd-b32b-9e8643c65a11",
        "colab": {
          "base_uri": "https://localhost:8080/",
          "height": 85
        }
      },
      "cell_type": "code",
      "source": [
        "accr = model.evaluate(X_test,y_test)\n",
        "print('Test set\\n  Loss: {:0.3f}\\n  Accuracy: {:0.3f}'.format(accr[0],accr[1]))"
      ],
      "execution_count": 15,
      "outputs": [
        {
          "output_type": "stream",
          "text": [
            "4919/4919 [==============================] - 4s 799us/step\n",
            "Test set\n",
            "  Loss: 0.160\n",
            "  Accuracy: 0.958\n"
          ],
          "name": "stdout"
        }
      ]
    },
    {
      "metadata": {
        "id": "IrfXnTsI81t9",
        "colab_type": "code",
        "outputId": "3a89a863-d1e6-463a-c02e-8ce4d005559f",
        "colab": {
          "base_uri": "https://localhost:8080/",
          "height": 707
        }
      },
      "cell_type": "code",
      "source": [
        "import matplotlib.pyplot as plt\n",
        "\n",
        "acc = history.history['acc']\n",
        "val_acc = history.history['val_acc']\n",
        "loss = history.history['loss']\n",
        "val_loss = history.history['val_loss']\n",
        "\n",
        "epochs = range(1, len(acc) + 1)\n",
        "\n",
        "plt.plot(epochs, acc, 'bo', label='Training acc')\n",
        "plt.plot(epochs, val_acc, 'b', label='Validation acc')\n",
        "plt.title('Training and validation accuracy')\n",
        "plt.legend()\n",
        "\n",
        "plt.figure()\n",
        "\n",
        "plt.plot(epochs, loss, 'bo', label='Training loss')\n",
        "plt.plot(epochs, val_loss, 'b', label='Validation loss')\n",
        "plt.title('Training and validation loss')\n",
        "plt.legend()\n",
        "\n",
        "plt.show()"
      ],
      "execution_count": 16,
      "outputs": [
        {
          "output_type": "display_data",
          "data": {
            "image/png": "[encoded data removed]",
            "text/plain": [
              "<Figure size 576x396 with 1 Axes>"
            ]
          },
          "metadata": {
            "tags": []
          }
        },
        {
          "output_type": "display_data",
          "data": {
            "image/png": "[encoded data removed]",
            "text/plain": [
              "<Figure size 576x396 with 1 Axes>"
            ]
          },
          "metadata": {
            "tags": []
          }
        }
      ]
    },
    {
      "metadata": {
        "id": "h8vPHizx9Cth",
        "colab_type": "code",
        "outputId": "0a2c20f7-4dd9-487b-d19e-3d1de45fd853",
        "colab": {
          "base_uri": "https://localhost:8080/",
          "height": 34
        }
      },
      "cell_type": "code",
      "source": [
        "txt = [\"I don't know\"]\n",
        "seq = tokenizer.texts_to_sequences(txt)\n",
        "padded = pad_sequences(seq, maxlen=max_len)\n",
        "pred = model.predict(padded)\n",
        "labels = ['neg', 'neu', 'pos']\n",
        "print(pred, labels[np.argmax(pred)])"
      ],
      "execution_count": 17,
      "outputs": [
        {
          "output_type": "stream",
          "text": [
            "[[7.0438255e-03 9.9269569e-01 2.6051136e-04]] neu\n"
          ],
          "name": "stdout"
        }
      ]
    },
    {
      "metadata": {
        "id": "ERGEBnD_923A",
        "colab_type": "code",
        "outputId": "6a7ce747-573a-4ba4-afce-ccc4b8192569",
        "colab": {
          "base_uri": "https://localhost:8080/",
          "height": 34
        }
      },
      "cell_type": "code",
      "source": [
        "txt = [\"good\"]\n",
        "seq = tokenizer.texts_to_sequences(txt)\n",
        "padded = pad_sequences(seq, maxlen=max_len)\n",
        "pred = model.predict(padded)\n",
        "labels = ['neg', 'neu', 'pos']\n",
        "print(pred, labels[np.argmax(pred)])"
      ],
      "execution_count": 18,
      "outputs": [
        {
          "output_type": "stream",
          "text": [
            "[[0.0053072  0.00800325 0.98668957]] pos\n"
          ],
          "name": "stdout"
        }
      ]
    },
    {
      "metadata": {
        "id": "JvARatxc99R0",
        "colab_type": "code",
        "outputId": "03fa017d-9d5a-428a-8da0-265d256d118b",
        "colab": {
          "base_uri": "https://localhost:8080/",
          "height": 34
        }
      },
      "cell_type": "code",
      "source": [
        "txt = [\"bad\"]\n",
        "seq = tokenizer.texts_to_sequences(txt)\n",
        "padded = pad_sequences(seq, maxlen=max_len)\n",
        "pred = model.predict(padded)\n",
        "labels = ['neg', 'neu', 'pos']\n",
        "print(pred, labels[np.argmax(pred)])"
      ],
      "execution_count": 19,
      "outputs": [
        {
          "output_type": "stream",
          "text": [
            "[[0.988596   0.00481329 0.00659061]] neg\n"
          ],
          "name": "stdout"
        }
      ]
    },
    {
      "metadata": {
        "id": "njzLHcFZ_WHY",
        "colab_type": "code",
        "outputId": "56b2d941-8f4c-4708-9d01-b12cbc92974d",
        "colab": {
          "base_uri": "https://localhost:8080/",
          "height": 34
        }
      },
      "cell_type": "code",
      "source": [
        "test_pred = model.predict(X_test)\n",
        "scores = model.evaluate(X_test, y_test, verbose=0)\n",
        "print(\"Perte: %.2f Erreur: %.2f%%\" % (scores[0], 100-scores[1]*100))"
      ],
      "execution_count": 20,
      "outputs": [
        {
          "output_type": "stream",
          "text": [
            "Perte: 0.16 Erreur: 4.23%\n"
          ],
          "name": "stdout"
        }
      ]
    },
    {
      "metadata": {
        "id": "nAAiQhzI_qIE",
        "colab_type": "code",
        "colab": {}
      },
      "cell_type": "code",
      "source": [
        "pred = test_pred.argmax(axis=1)\n",
        "y = y_test.argmax(axis=1)"
      ],
      "execution_count": 0,
      "outputs": []
    },
    {
      "metadata": {
        "id": "5ofLc8u6-BhU",
        "colab_type": "code",
        "outputId": "2b73194f-8f29-4e0a-bb0b-c405a9b3cd99",
        "colab": {
          "base_uri": "https://localhost:8080/",
          "height": 68
        }
      },
      "cell_type": "code",
      "source": [
        "from sklearn.metrics import confusion_matrix\n",
        "cnf_matrix = confusion_matrix(y, pred)\n",
        "\n",
        "print(cnf_matrix)"
      ],
      "execution_count": 22,
      "outputs": [
        {
          "output_type": "stream",
          "text": [
            "[[ 237   36   53]\n",
            " [  14 1145   45]\n",
            " [  23   37 3329]]\n"
          ],
          "name": "stdout"
        }
      ]
    },
    {
      "metadata": {
        "id": "RCm-Z79F_u26",
        "colab_type": "code",
        "outputId": "3efea0d5-daf0-4b37-9301-d62651851e08",
        "colab": {
          "base_uri": "https://localhost:8080/",
          "height": 187
        }
      },
      "cell_type": "code",
      "source": [
        "from sklearn.metrics import classification_report\n",
        "\n",
        "print( classification_report(y, pred) )"
      ],
      "execution_count": 23,
      "outputs": [
        {
          "output_type": "stream",
          "text": [
            "              precision    recall  f1-score   support\n",
            "\n",
            "           0       0.86      0.73      0.79       326\n",
            "           1       0.94      0.95      0.95      1204\n",
            "           2       0.97      0.98      0.98      3389\n",
            "\n",
            "   micro avg       0.96      0.96      0.96      4919\n",
            "   macro avg       0.93      0.89      0.90      4919\n",
            "weighted avg       0.96      0.96      0.96      4919\n",
            "\n"
          ],
          "name": "stdout"
        }
      ]
    },
    {
      "metadata": {
        "id": "Ce8nDtksAiQX",
        "colab_type": "code",
        "colab": {}
      },
      "cell_type": "code",
      "source": [
        ""
      ],
      "execution_count": 0,
      "outputs": []
    }
  ]
}